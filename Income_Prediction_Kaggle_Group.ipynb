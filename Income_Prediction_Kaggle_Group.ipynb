{
 "cells": [
  {
   "cell_type": "markdown",
   "metadata": {},
   "source": [
    "# loading libraries"
   ]
  },
  {
   "cell_type": "code",
   "execution_count": 5,
   "metadata": {},
   "outputs": [],
   "source": [
    "import pandas as pd\n",
    "import numpy as np\n",
    "import xgboost\n",
    "import lightgbm as lgbm\n",
    "from lightgbm import LGBMRegressor\n",
    "from sklearn.metrics import mean_absolute_error\n",
    "from sklearn.model_selection import KFold\n",
    "from xgboost import XGBRegressor"
   ]
  },
  {
   "cell_type": "markdown",
   "metadata": {},
   "source": [
    "# Reading the data"
   ]
  },
  {
   "cell_type": "code",
   "execution_count": 6,
   "metadata": {},
   "outputs": [
    {
     "name": "stderr",
     "output_type": "stream",
     "text": [
      "c:\\users\\vishwesh singh\\appdata\\local\\programs\\python\\python36\\lib\\site-packages\\IPython\\core\\interactiveshell.py:3058: DtypeWarning: Columns (2,4) have mixed types. Specify dtype option on import or set low_memory=False.\n",
      "  interactivity=interactivity, compiler=compiler, result=result)\n",
      "c:\\users\\vishwesh singh\\appdata\\local\\programs\\python\\python36\\lib\\site-packages\\IPython\\core\\interactiveshell.py:3058: DtypeWarning: Columns (4) have mixed types. Specify dtype option on import or set low_memory=False.\n",
      "  interactivity=interactivity, compiler=compiler, result=result)\n"
     ]
    }
   ],
   "source": [
    "train =pd.read_csv(\"tcd-ml-1920-group-income-train.csv\") #loading train data\n",
    "test = pd.read_csv(\"tcd-ml-1920-group-income-test.csv\")  #loading test data"
   ]
  },
  {
   "cell_type": "code",
   "execution_count": 7,
   "metadata": {},
   "outputs": [
    {
     "data": {
      "text/html": [
       "<div>\n",
       "<style scoped>\n",
       "    .dataframe tbody tr th:only-of-type {\n",
       "        vertical-align: middle;\n",
       "    }\n",
       "\n",
       "    .dataframe tbody tr th {\n",
       "        vertical-align: top;\n",
       "    }\n",
       "\n",
       "    .dataframe thead th {\n",
       "        text-align: right;\n",
       "    }\n",
       "</style>\n",
       "<table border=\"1\" class=\"dataframe\">\n",
       "  <thead>\n",
       "    <tr style=\"text-align: right;\">\n",
       "      <th></th>\n",
       "      <th>Instance</th>\n",
       "      <th>Year of Record</th>\n",
       "      <th>Housing Situation</th>\n",
       "      <th>Crime Level in the City of Employement</th>\n",
       "      <th>Work Experience in Current Job [years]</th>\n",
       "      <th>Satisfation with employer</th>\n",
       "      <th>Gender</th>\n",
       "      <th>Age</th>\n",
       "      <th>Country</th>\n",
       "      <th>Size of City</th>\n",
       "      <th>Profession</th>\n",
       "      <th>University Degree</th>\n",
       "      <th>Wears Glasses</th>\n",
       "      <th>Hair Color</th>\n",
       "      <th>Body Height [cm]</th>\n",
       "      <th>Yearly Income in addition to Salary (e.g. Rental Income)</th>\n",
       "      <th>Total Yearly Income [EUR]</th>\n",
       "    </tr>\n",
       "  </thead>\n",
       "  <tbody>\n",
       "    <tr>\n",
       "      <th>0</th>\n",
       "      <td>1</td>\n",
       "      <td>1940.0</td>\n",
       "      <td>0</td>\n",
       "      <td>33</td>\n",
       "      <td>17</td>\n",
       "      <td>Unhappy</td>\n",
       "      <td>other</td>\n",
       "      <td>45</td>\n",
       "      <td>Afghanistan</td>\n",
       "      <td>25179</td>\n",
       "      <td>group head</td>\n",
       "      <td>No</td>\n",
       "      <td>1</td>\n",
       "      <td>Black</td>\n",
       "      <td>182</td>\n",
       "      <td>0 EUR</td>\n",
       "      <td>6182.05</td>\n",
       "    </tr>\n",
       "    <tr>\n",
       "      <th>1</th>\n",
       "      <td>2</td>\n",
       "      <td>1940.0</td>\n",
       "      <td>0</td>\n",
       "      <td>25</td>\n",
       "      <td>4.9</td>\n",
       "      <td>Unhappy</td>\n",
       "      <td>female</td>\n",
       "      <td>17</td>\n",
       "      <td>Afghanistan</td>\n",
       "      <td>2278204</td>\n",
       "      <td>heavy vehicle and mobile equipment service tec...</td>\n",
       "      <td>No</td>\n",
       "      <td>0</td>\n",
       "      <td>Blond</td>\n",
       "      <td>172</td>\n",
       "      <td>0 EUR</td>\n",
       "      <td>6819.69</td>\n",
       "    </tr>\n",
       "    <tr>\n",
       "      <th>2</th>\n",
       "      <td>3</td>\n",
       "      <td>1940.0</td>\n",
       "      <td>0</td>\n",
       "      <td>34</td>\n",
       "      <td>21</td>\n",
       "      <td>Unhappy</td>\n",
       "      <td>female</td>\n",
       "      <td>48</td>\n",
       "      <td>Afghanistan</td>\n",
       "      <td>822134</td>\n",
       "      <td>sorter</td>\n",
       "      <td>Bachelor</td>\n",
       "      <td>0</td>\n",
       "      <td>Blond</td>\n",
       "      <td>144</td>\n",
       "      <td>0 EUR</td>\n",
       "      <td>8663.53</td>\n",
       "    </tr>\n",
       "    <tr>\n",
       "      <th>3</th>\n",
       "      <td>4</td>\n",
       "      <td>1940.0</td>\n",
       "      <td>0</td>\n",
       "      <td>70</td>\n",
       "      <td>18</td>\n",
       "      <td>Average</td>\n",
       "      <td>female</td>\n",
       "      <td>42</td>\n",
       "      <td>Albania</td>\n",
       "      <td>59477</td>\n",
       "      <td>quality control senior engineer</td>\n",
       "      <td>No</td>\n",
       "      <td>1</td>\n",
       "      <td>Brown</td>\n",
       "      <td>152</td>\n",
       "      <td>0 EUR</td>\n",
       "      <td>2400.64</td>\n",
       "    </tr>\n",
       "    <tr>\n",
       "      <th>4</th>\n",
       "      <td>5</td>\n",
       "      <td>1940.0</td>\n",
       "      <td>0</td>\n",
       "      <td>51</td>\n",
       "      <td>8</td>\n",
       "      <td>Happy</td>\n",
       "      <td>other</td>\n",
       "      <td>15</td>\n",
       "      <td>Albania</td>\n",
       "      <td>23494</td>\n",
       "      <td>logistician</td>\n",
       "      <td>Master</td>\n",
       "      <td>1</td>\n",
       "      <td>Black</td>\n",
       "      <td>180</td>\n",
       "      <td>0 EUR</td>\n",
       "      <td>2816.18</td>\n",
       "    </tr>\n",
       "  </tbody>\n",
       "</table>\n",
       "</div>"
      ],
      "text/plain": [
       "   Instance  Year of Record Housing Situation  \\\n",
       "0         1          1940.0                 0   \n",
       "1         2          1940.0                 0   \n",
       "2         3          1940.0                 0   \n",
       "3         4          1940.0                 0   \n",
       "4         5          1940.0                 0   \n",
       "\n",
       "   Crime Level in the City of Employement  \\\n",
       "0                                      33   \n",
       "1                                      25   \n",
       "2                                      34   \n",
       "3                                      70   \n",
       "4                                      51   \n",
       "\n",
       "  Work Experience in Current Job [years] Satisfation with employer  Gender  \\\n",
       "0                                     17                   Unhappy   other   \n",
       "1                                    4.9                   Unhappy  female   \n",
       "2                                     21                   Unhappy  female   \n",
       "3                                     18                   Average  female   \n",
       "4                                      8                     Happy   other   \n",
       "\n",
       "   Age      Country  Size of City  \\\n",
       "0   45  Afghanistan         25179   \n",
       "1   17  Afghanistan       2278204   \n",
       "2   48  Afghanistan        822134   \n",
       "3   42      Albania         59477   \n",
       "4   15      Albania         23494   \n",
       "\n",
       "                                          Profession University Degree  \\\n",
       "0                                         group head                No   \n",
       "1  heavy vehicle and mobile equipment service tec...                No   \n",
       "2                                             sorter          Bachelor   \n",
       "3                    quality control senior engineer                No   \n",
       "4                                        logistician            Master   \n",
       "\n",
       "   Wears Glasses Hair Color  Body Height [cm]  \\\n",
       "0              1      Black               182   \n",
       "1              0      Blond               172   \n",
       "2              0      Blond               144   \n",
       "3              1      Brown               152   \n",
       "4              1      Black               180   \n",
       "\n",
       "  Yearly Income in addition to Salary (e.g. Rental Income)  \\\n",
       "0                                              0 EUR         \n",
       "1                                              0 EUR         \n",
       "2                                              0 EUR         \n",
       "3                                              0 EUR         \n",
       "4                                              0 EUR         \n",
       "\n",
       "   Total Yearly Income [EUR]  \n",
       "0                    6182.05  \n",
       "1                    6819.69  \n",
       "2                    8663.53  \n",
       "3                    2400.64  \n",
       "4                    2816.18  "
      ]
     },
     "execution_count": 7,
     "metadata": {},
     "output_type": "execute_result"
    }
   ],
   "source": [
    "train.head()"
   ]
  },
  {
   "cell_type": "code",
   "execution_count": 8,
   "metadata": {},
   "outputs": [
    {
     "data": {
      "text/html": [
       "<div>\n",
       "<style scoped>\n",
       "    .dataframe tbody tr th:only-of-type {\n",
       "        vertical-align: middle;\n",
       "    }\n",
       "\n",
       "    .dataframe tbody tr th {\n",
       "        vertical-align: top;\n",
       "    }\n",
       "\n",
       "    .dataframe thead th {\n",
       "        text-align: right;\n",
       "    }\n",
       "</style>\n",
       "<table border=\"1\" class=\"dataframe\">\n",
       "  <thead>\n",
       "    <tr style=\"text-align: right;\">\n",
       "      <th></th>\n",
       "      <th>Instance</th>\n",
       "      <th>Year of Record</th>\n",
       "      <th>Housing Situation</th>\n",
       "      <th>Crime Level in the City of Employement</th>\n",
       "      <th>Work Experience in Current Job [years]</th>\n",
       "      <th>Satisfation with employer</th>\n",
       "      <th>Gender</th>\n",
       "      <th>Age</th>\n",
       "      <th>Country</th>\n",
       "      <th>Size of City</th>\n",
       "      <th>Profession</th>\n",
       "      <th>University Degree</th>\n",
       "      <th>Wears Glasses</th>\n",
       "      <th>Hair Color</th>\n",
       "      <th>Body Height [cm]</th>\n",
       "      <th>Yearly Income in addition to Salary (e.g. Rental Income)</th>\n",
       "      <th>Total Yearly Income [EUR]</th>\n",
       "    </tr>\n",
       "  </thead>\n",
       "  <tbody>\n",
       "    <tr>\n",
       "      <th>0</th>\n",
       "      <td>1</td>\n",
       "      <td>1994.0</td>\n",
       "      <td>Small House</td>\n",
       "      <td>23</td>\n",
       "      <td>12</td>\n",
       "      <td>Average</td>\n",
       "      <td>other</td>\n",
       "      <td>23</td>\n",
       "      <td>Serbia</td>\n",
       "      <td>734369</td>\n",
       "      <td>quality assurance specialist</td>\n",
       "      <td>Bachelor</td>\n",
       "      <td>0</td>\n",
       "      <td>Brown</td>\n",
       "      <td>151</td>\n",
       "      <td>0 EUR</td>\n",
       "      <td>NaN</td>\n",
       "    </tr>\n",
       "    <tr>\n",
       "      <th>1</th>\n",
       "      <td>2</td>\n",
       "      <td>1964.0</td>\n",
       "      <td>Castle</td>\n",
       "      <td>16</td>\n",
       "      <td>20</td>\n",
       "      <td>Average</td>\n",
       "      <td>NaN</td>\n",
       "      <td>44</td>\n",
       "      <td>Austria</td>\n",
       "      <td>897352</td>\n",
       "      <td>student data analyst</td>\n",
       "      <td>Master</td>\n",
       "      <td>0</td>\n",
       "      <td>Black</td>\n",
       "      <td>181</td>\n",
       "      <td>0 EUR</td>\n",
       "      <td>NaN</td>\n",
       "    </tr>\n",
       "    <tr>\n",
       "      <th>2</th>\n",
       "      <td>3</td>\n",
       "      <td>1974.0</td>\n",
       "      <td>Large House</td>\n",
       "      <td>22</td>\n",
       "      <td>11</td>\n",
       "      <td>Average</td>\n",
       "      <td>NaN</td>\n",
       "      <td>21</td>\n",
       "      <td>Serbia</td>\n",
       "      <td>766</td>\n",
       "      <td>project manager</td>\n",
       "      <td>Bachelor</td>\n",
       "      <td>0</td>\n",
       "      <td>Blond</td>\n",
       "      <td>179</td>\n",
       "      <td>0 EUR</td>\n",
       "      <td>NaN</td>\n",
       "    </tr>\n",
       "    <tr>\n",
       "      <th>3</th>\n",
       "      <td>4</td>\n",
       "      <td>1997.0</td>\n",
       "      <td>Large Apartment</td>\n",
       "      <td>41</td>\n",
       "      <td>14</td>\n",
       "      <td>Average</td>\n",
       "      <td>male</td>\n",
       "      <td>24</td>\n",
       "      <td>Sierra Leone</td>\n",
       "      <td>1150488</td>\n",
       "      <td>staff engineer / architect</td>\n",
       "      <td>Bachelor</td>\n",
       "      <td>0</td>\n",
       "      <td>Blond</td>\n",
       "      <td>201</td>\n",
       "      <td>0 EUR</td>\n",
       "      <td>NaN</td>\n",
       "    </tr>\n",
       "    <tr>\n",
       "      <th>4</th>\n",
       "      <td>5</td>\n",
       "      <td>1949.0</td>\n",
       "      <td>0</td>\n",
       "      <td>22</td>\n",
       "      <td>17</td>\n",
       "      <td>Happy</td>\n",
       "      <td>male</td>\n",
       "      <td>42</td>\n",
       "      <td>Ecuador</td>\n",
       "      <td>98532</td>\n",
       "      <td>machinist</td>\n",
       "      <td>No</td>\n",
       "      <td>1</td>\n",
       "      <td>Blond</td>\n",
       "      <td>163</td>\n",
       "      <td>0 EUR</td>\n",
       "      <td>NaN</td>\n",
       "    </tr>\n",
       "  </tbody>\n",
       "</table>\n",
       "</div>"
      ],
      "text/plain": [
       "   Instance  Year of Record Housing Situation  \\\n",
       "0         1          1994.0       Small House   \n",
       "1         2          1964.0            Castle   \n",
       "2         3          1974.0       Large House   \n",
       "3         4          1997.0   Large Apartment   \n",
       "4         5          1949.0                 0   \n",
       "\n",
       "   Crime Level in the City of Employement  \\\n",
       "0                                      23   \n",
       "1                                      16   \n",
       "2                                      22   \n",
       "3                                      41   \n",
       "4                                      22   \n",
       "\n",
       "  Work Experience in Current Job [years] Satisfation with employer Gender  \\\n",
       "0                                     12                   Average  other   \n",
       "1                                     20                   Average    NaN   \n",
       "2                                     11                   Average    NaN   \n",
       "3                                     14                   Average   male   \n",
       "4                                     17                     Happy   male   \n",
       "\n",
       "   Age       Country  Size of City                    Profession  \\\n",
       "0   23        Serbia        734369  quality assurance specialist   \n",
       "1   44       Austria        897352          student data analyst   \n",
       "2   21        Serbia           766               project manager   \n",
       "3   24  Sierra Leone       1150488    staff engineer / architect   \n",
       "4   42       Ecuador         98532                     machinist   \n",
       "\n",
       "  University Degree  Wears Glasses Hair Color  Body Height [cm]  \\\n",
       "0          Bachelor              0      Brown               151   \n",
       "1            Master              0      Black               181   \n",
       "2          Bachelor              0      Blond               179   \n",
       "3          Bachelor              0      Blond               201   \n",
       "4                No              1      Blond               163   \n",
       "\n",
       "  Yearly Income in addition to Salary (e.g. Rental Income)  \\\n",
       "0                                              0 EUR         \n",
       "1                                              0 EUR         \n",
       "2                                              0 EUR         \n",
       "3                                              0 EUR         \n",
       "4                                              0 EUR         \n",
       "\n",
       "   Total Yearly Income [EUR]  \n",
       "0                        NaN  \n",
       "1                        NaN  \n",
       "2                        NaN  \n",
       "3                        NaN  \n",
       "4                        NaN  "
      ]
     },
     "execution_count": 8,
     "metadata": {},
     "output_type": "execute_result"
    }
   ],
   "source": [
    "test.head()"
   ]
  },
  {
   "cell_type": "code",
   "execution_count": 9,
   "metadata": {},
   "outputs": [],
   "source": [
    "frames = [train,test]\n",
    "combine_data = pd.concat(frames, keys=['tr','te'])  #concatenating train and test data"
   ]
  },
  {
   "cell_type": "code",
   "execution_count": 10,
   "metadata": {},
   "outputs": [],
   "source": [
    "combine_data_copy = combine_data #making a copy of data"
   ]
  },
  {
   "cell_type": "code",
   "execution_count": 11,
   "metadata": {},
   "outputs": [],
   "source": [
    "combine_data_copy = combine_data_copy.drop(\"Instance\", axis =True) #drop Instance\n",
    "combine_data_copy = combine_data_copy.drop(\"Total Yearly Income [EUR]\", axis =True) #drop Target variable"
   ]
  },
  {
   "cell_type": "code",
   "execution_count": 49,
   "metadata": {},
   "outputs": [
    {
     "data": {
      "text/html": [
       "<div>\n",
       "<style scoped>\n",
       "    .dataframe tbody tr th:only-of-type {\n",
       "        vertical-align: middle;\n",
       "    }\n",
       "\n",
       "    .dataframe tbody tr th {\n",
       "        vertical-align: top;\n",
       "    }\n",
       "\n",
       "    .dataframe thead th {\n",
       "        text-align: right;\n",
       "    }\n",
       "</style>\n",
       "<table border=\"1\" class=\"dataframe\">\n",
       "  <thead>\n",
       "    <tr style=\"text-align: right;\">\n",
       "      <th></th>\n",
       "      <th></th>\n",
       "      <th>Instance</th>\n",
       "      <th>Year of Record</th>\n",
       "      <th>Housing Situation</th>\n",
       "      <th>Crime Level in the City of Employement</th>\n",
       "      <th>Work Experience in Current Job [years]</th>\n",
       "      <th>Satisfation with employer</th>\n",
       "      <th>Gender</th>\n",
       "      <th>Age</th>\n",
       "      <th>Country</th>\n",
       "      <th>Size of City</th>\n",
       "      <th>Profession</th>\n",
       "      <th>University Degree</th>\n",
       "      <th>Wears Glasses</th>\n",
       "      <th>Hair Color</th>\n",
       "      <th>Body Height [cm]</th>\n",
       "      <th>Yearly Income in addition to Salary (e.g. Rental Income)</th>\n",
       "      <th>Total Yearly Income [EUR]</th>\n",
       "    </tr>\n",
       "  </thead>\n",
       "  <tbody>\n",
       "    <tr>\n",
       "      <th rowspan=\"5\" valign=\"top\">tr</th>\n",
       "      <th>0</th>\n",
       "      <td>1</td>\n",
       "      <td>1940.0</td>\n",
       "      <td>0</td>\n",
       "      <td>33</td>\n",
       "      <td>17</td>\n",
       "      <td>Unhappy</td>\n",
       "      <td>other</td>\n",
       "      <td>45</td>\n",
       "      <td>Afghanistan</td>\n",
       "      <td>25179</td>\n",
       "      <td>group head</td>\n",
       "      <td>No</td>\n",
       "      <td>1</td>\n",
       "      <td>Black</td>\n",
       "      <td>182</td>\n",
       "      <td>0 EUR</td>\n",
       "      <td>6182.05</td>\n",
       "    </tr>\n",
       "    <tr>\n",
       "      <th>1</th>\n",
       "      <td>2</td>\n",
       "      <td>1940.0</td>\n",
       "      <td>0</td>\n",
       "      <td>25</td>\n",
       "      <td>4.9</td>\n",
       "      <td>Unhappy</td>\n",
       "      <td>female</td>\n",
       "      <td>17</td>\n",
       "      <td>Afghanistan</td>\n",
       "      <td>2278204</td>\n",
       "      <td>heavy vehicle and mobile equipment service tec...</td>\n",
       "      <td>No</td>\n",
       "      <td>0</td>\n",
       "      <td>Blond</td>\n",
       "      <td>172</td>\n",
       "      <td>0 EUR</td>\n",
       "      <td>6819.69</td>\n",
       "    </tr>\n",
       "    <tr>\n",
       "      <th>2</th>\n",
       "      <td>3</td>\n",
       "      <td>1940.0</td>\n",
       "      <td>0</td>\n",
       "      <td>34</td>\n",
       "      <td>21</td>\n",
       "      <td>Unhappy</td>\n",
       "      <td>female</td>\n",
       "      <td>48</td>\n",
       "      <td>Afghanistan</td>\n",
       "      <td>822134</td>\n",
       "      <td>sorter</td>\n",
       "      <td>Bachelor</td>\n",
       "      <td>0</td>\n",
       "      <td>Blond</td>\n",
       "      <td>144</td>\n",
       "      <td>0 EUR</td>\n",
       "      <td>8663.53</td>\n",
       "    </tr>\n",
       "    <tr>\n",
       "      <th>3</th>\n",
       "      <td>4</td>\n",
       "      <td>1940.0</td>\n",
       "      <td>0</td>\n",
       "      <td>70</td>\n",
       "      <td>18</td>\n",
       "      <td>Average</td>\n",
       "      <td>female</td>\n",
       "      <td>42</td>\n",
       "      <td>Albania</td>\n",
       "      <td>59477</td>\n",
       "      <td>quality control senior engineer</td>\n",
       "      <td>No</td>\n",
       "      <td>1</td>\n",
       "      <td>Brown</td>\n",
       "      <td>152</td>\n",
       "      <td>0 EUR</td>\n",
       "      <td>2400.64</td>\n",
       "    </tr>\n",
       "    <tr>\n",
       "      <th>4</th>\n",
       "      <td>5</td>\n",
       "      <td>1940.0</td>\n",
       "      <td>0</td>\n",
       "      <td>51</td>\n",
       "      <td>8</td>\n",
       "      <td>Happy</td>\n",
       "      <td>other</td>\n",
       "      <td>15</td>\n",
       "      <td>Albania</td>\n",
       "      <td>23494</td>\n",
       "      <td>logistician</td>\n",
       "      <td>Master</td>\n",
       "      <td>1</td>\n",
       "      <td>Black</td>\n",
       "      <td>180</td>\n",
       "      <td>0 EUR</td>\n",
       "      <td>2816.18</td>\n",
       "    </tr>\n",
       "  </tbody>\n",
       "</table>\n",
       "</div>"
      ],
      "text/plain": [
       "      Instance  Year of Record Housing Situation  \\\n",
       "tr 0         1          1940.0                 0   \n",
       "   1         2          1940.0                 0   \n",
       "   2         3          1940.0                 0   \n",
       "   3         4          1940.0                 0   \n",
       "   4         5          1940.0                 0   \n",
       "\n",
       "      Crime Level in the City of Employement  \\\n",
       "tr 0                                      33   \n",
       "   1                                      25   \n",
       "   2                                      34   \n",
       "   3                                      70   \n",
       "   4                                      51   \n",
       "\n",
       "     Work Experience in Current Job [years] Satisfation with employer  Gender  \\\n",
       "tr 0                                     17                   Unhappy   other   \n",
       "   1                                    4.9                   Unhappy  female   \n",
       "   2                                     21                   Unhappy  female   \n",
       "   3                                     18                   Average  female   \n",
       "   4                                      8                     Happy   other   \n",
       "\n",
       "      Age      Country  Size of City  \\\n",
       "tr 0   45  Afghanistan         25179   \n",
       "   1   17  Afghanistan       2278204   \n",
       "   2   48  Afghanistan        822134   \n",
       "   3   42      Albania         59477   \n",
       "   4   15      Albania         23494   \n",
       "\n",
       "                                             Profession University Degree  \\\n",
       "tr 0                                         group head                No   \n",
       "   1  heavy vehicle and mobile equipment service tec...                No   \n",
       "   2                                             sorter          Bachelor   \n",
       "   3                    quality control senior engineer                No   \n",
       "   4                                        logistician            Master   \n",
       "\n",
       "      Wears Glasses Hair Color  Body Height [cm]  \\\n",
       "tr 0              1      Black               182   \n",
       "   1              0      Blond               172   \n",
       "   2              0      Blond               144   \n",
       "   3              1      Brown               152   \n",
       "   4              1      Black               180   \n",
       "\n",
       "     Yearly Income in addition to Salary (e.g. Rental Income)  \\\n",
       "tr 0                                              0 EUR         \n",
       "   1                                              0 EUR         \n",
       "   2                                              0 EUR         \n",
       "   3                                              0 EUR         \n",
       "   4                                              0 EUR         \n",
       "\n",
       "      Total Yearly Income [EUR]  \n",
       "tr 0                    6182.05  \n",
       "   1                    6819.69  \n",
       "   2                    8663.53  \n",
       "   3                    2400.64  \n",
       "   4                    2816.18  "
      ]
     },
     "execution_count": 49,
     "metadata": {},
     "output_type": "execute_result"
    }
   ],
   "source": [
    "combine_data.head()"
   ]
  },
  {
   "cell_type": "markdown",
   "metadata": {},
   "source": [
    "# Visualizing different features with Target Variables"
   ]
  },
  {
   "cell_type": "code",
   "execution_count": 13,
   "metadata": {},
   "outputs": [],
   "source": [
    "#import seaborn as sns\n",
    "#import matplotlib.pyplot as plt\n",
    "#sns.set(style=\"ticks\", color_codes=True)"
   ]
  },
  {
   "cell_type": "code",
   "execution_count": 14,
   "metadata": {},
   "outputs": [],
   "source": [
    "#tips = combine_data.loc['tr']\n",
    "#tips.fillna(\"NULL VALUE\", inplace = True)\n",
    "#ax = sns.catplot(x=\"Housing Situation\", y=\"Total Yearly Income [EUR]\", data=tips, jitter  = False, aspect =2)\n",
    "#ax.set_xticklabels(rotation=90)"
   ]
  },
  {
   "cell_type": "code",
   "execution_count": 15,
   "metadata": {},
   "outputs": [],
   "source": [
    "#tips = combine_data.loc['tr']\n",
    "#tips.fillna(\"NULL VALUE\", inplace = True)\n",
    "#ax = sns.catplot(x=\"Year of Record\", y=\"Total Yearly Income [EUR]\", data=tips, jitter  = False, aspect =3)\n",
    "#ax.set_xticklabels(rotation=90)"
   ]
  },
  {
   "cell_type": "code",
   "execution_count": 16,
   "metadata": {},
   "outputs": [],
   "source": [
    "#tips = combine_data.loc['tr']\n",
    "#tips = tips.sort_values(by=\"Crime Level in the City of Employement\")\n",
    "#ax = sns.catplot(x=\"Crime Level in the City of Employement\", y=\"Total Yearly Income [EUR]\", data=tips, jitter  = False, aspect =3)\n",
    "#ax.set_xticklabels(rotation=90)"
   ]
  },
  {
   "cell_type": "code",
   "execution_count": 17,
   "metadata": {},
   "outputs": [],
   "source": [
    "#tips = combine_data.loc['tr']\n",
    "#ax = sns.catplot(x=\"Work Experience in Current Job [years]\", y=\"Total Yearly Income [EUR]\", data=tips, jitter  = False, aspect =3)\n",
    "#ax.set_xticklabels(rotation=90)"
   ]
  },
  {
   "cell_type": "code",
   "execution_count": 18,
   "metadata": {},
   "outputs": [],
   "source": [
    "#tips = combine_data.loc['tr']\n",
    "#tips.fillna(\"NULL VALUE\", inplace = True)\n",
    "#ax = sns.catplot(x=\"Satisfation with employer\", y=\"Total Yearly Income [EUR]\", data=tips, jitter  = False, aspect =3)\n",
    "#ax.set_xticklabels(rotation=90)"
   ]
  },
  {
   "cell_type": "code",
   "execution_count": 19,
   "metadata": {},
   "outputs": [],
   "source": [
    "#tips = combine_data.loc['tr']\n",
    "#tips.fillna(\"NULL VALUE\", inplace = True)\n",
    "#ax = sns.catplot(x=\"Gender\", y=\"Total Yearly Income [EUR]\", data=tips, jitter  = False, aspect =3)\n",
    "#ax.set_xticklabels(rotation=90)"
   ]
  },
  {
   "cell_type": "code",
   "execution_count": 20,
   "metadata": {},
   "outputs": [],
   "source": [
    "#tips = combine_data.loc['tr']\n",
    "#tips = tips.sort_values(by=\"Age\")\n",
    "#ax = sns.catplot(x=\"Age\", y=\"Total Yearly Income [EUR]\", data=tips, jitter  = False, aspect =3)\n",
    "#ax.set_xticklabels(rotation=90)"
   ]
  },
  {
   "cell_type": "code",
   "execution_count": 21,
   "metadata": {},
   "outputs": [],
   "source": [
    "#tips = combine_data.loc['tr']\n",
    "#ax = sns.catplot(x=\"Country\", y=\"Total Yearly Income [EUR]\", data=tips, jitter  = False, aspect =4)\n",
    "#ax.set_xticklabels(rotation=90)"
   ]
  },
  {
   "cell_type": "code",
   "execution_count": 22,
   "metadata": {},
   "outputs": [],
   "source": [
    "#tips = combine_data\n",
    "#tips = tips.sort_values(by=\"Size of City\")\n",
    "#ax = sns.catplot(x=\"Size of City\", y=\"Total Yearly Income [EUR]\", data=tips, jitter  = False, aspect =3)\n",
    "#ax.set_xticklabels(rotation=90)"
   ]
  },
  {
   "cell_type": "code",
   "execution_count": 23,
   "metadata": {},
   "outputs": [],
   "source": [
    "#tips = combine_data.loc['tr']\n",
    "#ax = sns.catplot(x=\"Profession\", y=\"Total Yearly Income [EUR]\", data=tips, jitter  = False, aspect =4)\n",
    "#ax.set_xticklabels(rotation=90)"
   ]
  },
  {
   "cell_type": "code",
   "execution_count": 24,
   "metadata": {},
   "outputs": [],
   "source": [
    "#tips = combine_data.loc['tr']\n",
    "#tips.fillna(\"NULL VALUE\", inplace = True)\n",
    "#ax = sns.catplot(x=\"University Degree\", y=\"Total Yearly Income [EUR]\", data=tips, jitter  = False, aspect =3)\n",
    "#ax.set_xticklabels(rotation=90)"
   ]
  },
  {
   "cell_type": "code",
   "execution_count": 25,
   "metadata": {},
   "outputs": [],
   "source": [
    "#tips = combine_data.loc['tr']\n",
    "#ax = sns.catplot(x=\"Wears Glasses\", y=\"Total Yearly Income [EUR]\", data=tips, jitter  = False, aspect =3)\n",
    "#ax.set_xticklabels(rotation=90)"
   ]
  },
  {
   "cell_type": "code",
   "execution_count": 26,
   "metadata": {},
   "outputs": [],
   "source": [
    "#tips = combine_data.loc['tr']\n",
    "#tips.fillna('NULL VALUE', inplace = True)\n",
    "#ax = sns.catplot(x=\"Hair Color\", y=\"Total Yearly Income [EUR]\", data=tips, jitter  = False, aspect =3)\n",
    "#ax.set_xticklabels(rotation=90)"
   ]
  },
  {
   "cell_type": "code",
   "execution_count": 27,
   "metadata": {},
   "outputs": [],
   "source": [
    "#tips = combine_data.loc['tr']\n",
    "#ax = sns.catplot(x=\"Body Height [cm]\", y=\"Total Yearly Income [EUR]\", data=tips, jitter  = False, aspect =3)\n",
    "#ax.set_xticklabels(rotation=90)"
   ]
  },
  {
   "cell_type": "code",
   "execution_count": 28,
   "metadata": {},
   "outputs": [],
   "source": [
    "#tips = combine_data.loc['tr']\n",
    "#ax = sns.catplot(x=\"Yearly Income in addition to Salary (e.g. Rental Income)\", y=\"Total Yearly Income [EUR]\", data=tips, jitter  = False, aspect =3)\n",
    "#ax.set_xticklabels(rotation=90)"
   ]
  },
  {
   "cell_type": "markdown",
   "metadata": {},
   "source": [
    "# Treating Null Values"
   ]
  },
  {
   "cell_type": "code",
   "execution_count": 29,
   "metadata": {},
   "outputs": [
    {
     "name": "stdout",
     "output_type": "stream",
     "text": [
      "Year of Record                                               4013\n",
      "Housing Situation                                               0\n",
      "Crime Level in the City of Employement                          0\n",
      "Work Experience in Current Job [years]                          0\n",
      "Satisfation with employer                                   38087\n",
      "Gender                                                      74127\n",
      "Age                                                             0\n",
      "Country                                                         0\n",
      "Size of City                                                    0\n",
      "Profession                                                   2853\n",
      "University Degree                                           80600\n",
      "Wears Glasses                                                   0\n",
      "Hair Color                                                  70211\n",
      "Body Height [cm]                                                0\n",
      "Yearly Income in addition to Salary (e.g. Rental Income)        0\n",
      "dtype: int64\n"
     ]
    }
   ],
   "source": [
    "print(combine_data_copy.loc['tr'].isnull().sum()) #checking null values for train data"
   ]
  },
  {
   "cell_type": "code",
   "execution_count": 34,
   "metadata": {},
   "outputs": [
    {
     "name": "stdout",
     "output_type": "stream",
     "text": [
      "Year of Record                                              0\n",
      "Housing Situation                                           0\n",
      "Crime Level in the City of Employement                      0\n",
      "Work Experience in Current Job [years]                      0\n",
      "Satisfation with employer                                   0\n",
      "Gender                                                      0\n",
      "Age                                                         0\n",
      "Country                                                     0\n",
      "Size of City                                                0\n",
      "Profession                                                  0\n",
      "University Degree                                           0\n",
      "Wears Glasses                                               0\n",
      "Hair Color                                                  0\n",
      "Body Height [cm]                                            0\n",
      "Yearly Income in addition to Salary (e.g. Rental Income)    0\n",
      "dtype: int64\n"
     ]
    }
   ],
   "source": [
    "print(combine_data_copy.loc['te'].isnull().sum()) #checking null values for the test data"
   ]
  },
  {
   "cell_type": "code",
   "execution_count": 32,
   "metadata": {},
   "outputs": [
    {
     "data": {
      "image/png": "[encoded data removed]",
      "text/plain": [
       "<Figure size 842.4x595.44 with 1 Axes>"
      ]
     },
     "metadata": {},
     "output_type": "display_data"
    }
   ],
   "source": [
    "#plotting frequency for different features\n",
    "import seaborn as sns    \n",
    "import matplotlib.pyplot as plt\n",
    "sns.set(rc={'figure.figsize':(11.7,8.27)})\n",
    "carrier_count = combine_data_copy['Hair Color'].value_counts()\n",
    "sns.set(style=\"darkgrid\")\n",
    "sns.barplot(carrier_count.index, carrier_count.values, alpha=0.9)\n",
    "plt.title('Frequency Distribution ')\n",
    "plt.ylabel('Number of Occurrences', fontsize=12)\n",
    "plt.xlabel('Carrier', fontsize=12)\n",
    "plt.xticks(rotation=90)\n",
    "plt.show()"
   ]
  },
  {
   "cell_type": "code",
   "execution_count": 33,
   "metadata": {},
   "outputs": [],
   "source": [
    "#manually imputing the missing values as inferred from the visualization\n",
    "combine_data_copy['Year of Record'].fillna('1977', inplace = True) \n",
    "combine_data_copy['Housing Situation'].replace('nA','0', inplace = True)\n",
    "combine_data_copy['Housing Situation'].replace('0','Castle', inplace = True)\n",
    "combine_data_copy['Housing Situation'].replace(0,'Castle', inplace = True)\n",
    "combine_data_copy['Work Experience in Current Job [years]'].replace(\"#NUM!\", '3.5', inplace = True)\n",
    "combine_data_copy['Satisfation with employer'].fillna('Average', inplace = True)\n",
    "combine_data_copy['Gender'].replace('0','f', inplace = True)\n",
    "combine_data_copy['Gender'].fillna('Male', inplace = True)\n",
    "combine_data_copy['Country'].fillna('Honduras', inplace = True)\n",
    "combine_data_copy['Profession'].fillna('payment analyst', inplace = True)\n",
    "combine_data_copy['University Degree'].fillna('Bachelor', inplace = True)\n",
    "combine_data_copy['Hair Color'].replace('0','Unknown', inplace = True)\n",
    "combine_data_copy['Hair Color'].fillna('Black', inplace = True)\n",
    "combine_data_copy['Yearly Income in addition to Salary (e.g. Rental Income)'].replace('EUR',\"\",regex = True, inplace =True)"
   ]
  },
  {
   "cell_type": "code",
   "execution_count": 37,
   "metadata": {},
   "outputs": [
    {
     "name": "stdout",
     "output_type": "stream",
     "text": [
      "<class 'pandas.core.frame.DataFrame'>\n",
      "MultiIndex: 1418012 entries, (tr, 0) to (te, 369437)\n",
      "Data columns (total 15 columns):\n",
      "Year of Record                                              1418012 non-null float64\n",
      "Housing Situation                                           1418012 non-null category\n",
      "Crime Level in the City of Employement                      1418012 non-null int64\n",
      "Work Experience in Current Job [years]                      1418012 non-null float64\n",
      "Satisfation with employer                                   1418012 non-null category\n",
      "Gender                                                      1418012 non-null category\n",
      "Age                                                         1418012 non-null int64\n",
      "Country                                                     1418012 non-null category\n",
      "Size of City                                                1418012 non-null int64\n",
      "Profession                                                  1418012 non-null category\n",
      "University Degree                                           1418012 non-null category\n",
      "Wears Glasses                                               1418012 non-null int64\n",
      "Hair Color                                                  1418012 non-null category\n",
      "Body Height [cm]                                            1418012 non-null int64\n",
      "Yearly Income in addition to Salary (e.g. Rental Income)    1418012 non-null float64\n",
      "dtypes: category(7), float64(3), int64(5)\n",
      "memory usage: 113.5+ MB\n"
     ]
    }
   ],
   "source": [
    "combine_data_copy.info()"
   ]
  },
  {
   "cell_type": "code",
   "execution_count": 36,
   "metadata": {},
   "outputs": [],
   "source": [
    "#Changing the data types of features\n",
    "combine_data_copy['Year of Record'] = combine_data_copy['Year of Record'].astype(float)\n",
    "combine_data_copy['Housing Situation'] = combine_data_copy['Housing Situation'].astype('category')\n",
    "combine_data_copy['Work Experience in Current Job [years]'] = combine_data_copy['Work Experience in Current Job [years]'].astype(float)\n",
    "combine_data_copy['Satisfation with employer'] = combine_data_copy['Satisfation with employer'].astype('category')\n",
    "combine_data_copy['Gender'] = combine_data_copy['Gender'].astype('category')\n",
    "combine_data_copy['Country'] = combine_data_copy['Country'].astype('category')\n",
    "combine_data_copy['Profession'] = combine_data_copy['Profession'].astype('category')\n",
    "combine_data_copy['University Degree'] = combine_data_copy['University Degree'].astype('category')\n",
    "combine_data_copy['Hair Color'] = combine_data_copy['Hair Color'].astype('category')\n",
    "combine_data_copy['Yearly Income in addition to Salary (e.g. Rental Income)'] = combine_data_copy['Yearly Income in addition to Salary (e.g. Rental Income)'].astype('float')"
   ]
  },
  {
   "cell_type": "code",
   "execution_count": 38,
   "metadata": {},
   "outputs": [],
   "source": [
    "combine_data_copy = combine_data_copy.drop(\"Crime Level in the City of Employement\", axis =True) #dropping the crime feature"
   ]
  },
  {
   "cell_type": "markdown",
   "metadata": {},
   "source": [
    "# Encoding the Categorical Variables with their frequency"
   ]
  },
  {
   "cell_type": "code",
   "execution_count": 39,
   "metadata": {},
   "outputs": [],
   "source": [
    "encoding = combine_data_copy.groupby('Housing Situation').size()\n",
    "encoding = encoding/len(combine_data_copy)\n",
    "combine_data_copy[\"Housing Situation\"] = combine_data_copy[\"Housing Situation\"].map(encoding)"
   ]
  },
  {
   "cell_type": "code",
   "execution_count": 40,
   "metadata": {},
   "outputs": [],
   "source": [
    "encoding = combine_data_copy.groupby('Satisfation with employer').size()\n",
    "encoding = encoding/len(combine_data_copy)\n",
    "combine_data_copy[\"Satisfation with employer\"] = combine_data_copy[\"Satisfation with employer\"].map(encoding)"
   ]
  },
  {
   "cell_type": "code",
   "execution_count": 41,
   "metadata": {},
   "outputs": [],
   "source": [
    "encoding = combine_data_copy.groupby('Gender').size()\n",
    "encoding = encoding/len(combine_data_copy)\n",
    "combine_data_copy[\"Gender\"] = combine_data_copy[\"Gender\"].map(encoding)"
   ]
  },
  {
   "cell_type": "code",
   "execution_count": 42,
   "metadata": {},
   "outputs": [],
   "source": [
    "encoding = combine_data_copy.groupby('Country').size()\n",
    "encoding = encoding/len(combine_data_copy)\n",
    "combine_data_copy[\"Country\"] = combine_data_copy[\"Country\"].map(encoding)"
   ]
  },
  {
   "cell_type": "code",
   "execution_count": 43,
   "metadata": {},
   "outputs": [],
   "source": [
    "encoding = combine_data_copy.groupby('Profession').size()\n",
    "encoding = encoding/len(combine_data_copy)\n",
    "combine_data_copy[\"Profession\"] = combine_data_copy[\"Profession\"].map(encoding)"
   ]
  },
  {
   "cell_type": "code",
   "execution_count": 44,
   "metadata": {},
   "outputs": [],
   "source": [
    "encoding = combine_data_copy.groupby('University Degree').size()\n",
    "encoding = encoding/len(combine_data_copy)\n",
    "combine_data_copy[\"University Degree\"] = combine_data_copy[\"University Degree\"].map(encoding)"
   ]
  },
  {
   "cell_type": "code",
   "execution_count": 45,
   "metadata": {},
   "outputs": [],
   "source": [
    "encoding = combine_data_copy.groupby('Hair Color').size()\n",
    "encoding = encoding/len(combine_data_copy)\n",
    "combine_data_copy[\"Hair Color\"] = combine_data_copy[\"Hair Color\"].map(encoding)"
   ]
  },
  {
   "cell_type": "code",
   "execution_count": 47,
   "metadata": {},
   "outputs": [],
   "source": [
    "#changing the data type\n",
    "combine_data_copy['Housing Situation'] = combine_data_copy['Housing Situation'].astype(float)\n",
    "combine_data_copy['Satisfation with employer'] = combine_data_copy['Satisfation with employer'].astype(float)\n",
    "combine_data_copy['Gender'] = combine_data_copy['Gender'].astype(float)\n",
    "combine_data_copy['University Degree'] = combine_data_copy['University Degree'].astype(float)\n",
    "combine_data_copy['Hair Color'] = combine_data_copy['Hair Color'].astype(float)"
   ]
  },
  {
   "cell_type": "markdown",
   "metadata": {},
   "source": [
    "# Min Max Scaling "
   ]
  },
  {
   "cell_type": "code",
   "execution_count": null,
   "metadata": {},
   "outputs": [],
   "source": [
    "combine_data_copy['Year of Record']=(combine_data_copy['Year of Record']-combine_data_copy['Year of Record'].min())/(combine_data_copy['Year of Record'].max()-combine_data_copy['Year of Record'].min())\n",
    "combine_data_copy['Work Experience in Current Job [years]']=(combine_data_copy['Work Experience in Current Job [years]']-combine_data_copy['Work Experience in Current Job [years]'].min())/(combine_data_copy['Work Experience in Current Job [years]'].max()-combine_data_copy['Work Experience in Current Job [years]'].min())\n",
    "combine_data_copy['Age']=(combine_data_copy['Age']-combine_data_copy['Age'].min())/(combine_data_copy['Age'].max()-combine_data_copy['Age'].min())\n",
    "combine_data_copy['Size of City']=(combine_data_copy['Size of City']-combine_data_copy['Size of City'].min())/(combine_data_copy['Size of City'].max()-combine_data_copy['Size of City'].min())\n",
    "combine_data_copy['Body Height [cm]']=(combine_data_copy['Body Height [cm]']-combine_data_copy['Body Height [cm]'].min())/(combine_data_copy['Body Height [cm]'].max()-combine_data_copy['Body Height [cm]'].min())\n",
    "combine_data_copy['Yearly Income in addition to Salary (e.g. Rental Income)']=(combine_data_copy['Yearly Income in addition to Salary (e.g. Rental Income)']-combine_data_copy['Yearly Income in addition to Salary (e.g. Rental Income)'].min())/(combine_data_copy['Yearly Income in addition to Salary (e.g. Rental Income)'].max()-combine_data_copy['Yearly Income in addition to Salary (e.g. Rental Income)'].min())\n",
    "#combine_data_copy['Housing Situation']=(combine_data_copy['Housing Situation']-combine_data_copy['Housing Situation'].min())/(combine_data_copy['Housing Situation'].max()-combine_data_copy['Housing Situation'].min())\n",
    "#combine_data_copy['Satisfation with employer']=(combine_data_copy['Satisfation with employer']-combine_data_copy['Satisfation with employer'].min())/(combine_data_copy['Satisfation with employer'].max()-combine_data_copy['Satisfation with employer'].min())\n",
    "#combine_data_copy['Gender']=(combine_data_copy['Gender']-combine_data_copy['Gender'].min())/(combine_data_copy['Gender'].max()-combine_data_copy['Gender'].min())\n",
    "#combine_data_copy['Profession']=(combine_data_copy['Profession']-combine_data_copy['Profession'].min())/(combine_data_copy['Profession'].max()-combine_data_copy['Profession'].min())\n",
    "#combine_data_copy['Hair Color']=(combine_data_copy['Hair Color']-combine_data_copy['Hair Color'].min())/(combine_data_copy['Hair Color'].max()-combine_data_copy['Hair Color'].min())"
   ]
  },
  {
   "cell_type": "markdown",
   "metadata": {},
   "source": [
    "# Model Training"
   ]
  },
  {
   "cell_type": "code",
   "execution_count": 54,
   "metadata": {},
   "outputs": [
    {
     "name": "stderr",
     "output_type": "stream",
     "text": [
      "c:\\users\\vishwesh singh\\appdata\\local\\programs\\python\\python36\\lib\\site-packages\\ipykernel_launcher.py:1: FutureWarning: \n",
      ".ix is deprecated. Please use\n",
      ".loc for label based indexing or\n",
      ".iloc for positional indexing\n",
      "\n",
      "See the documentation here:\n",
      "http://pandas.pydata.org/pandas-docs/stable/user_guide/indexing.html#ix-indexer-is-deprecated\n",
      "  \"\"\"Entry point for launching an IPython kernel.\n",
      "c:\\users\\vishwesh singh\\appdata\\local\\programs\\python\\python36\\lib\\site-packages\\ipykernel_launcher.py:2: FutureWarning: \n",
      ".ix is deprecated. Please use\n",
      ".loc for label based indexing or\n",
      ".iloc for positional indexing\n",
      "\n",
      "See the documentation here:\n",
      "http://pandas.pydata.org/pandas-docs/stable/user_guide/indexing.html#ix-indexer-is-deprecated\n",
      "  \n"
     ]
    }
   ],
   "source": [
    "x_prime=combine_data_copy.loc['tr'].ix[:,(0,1,2,3,4,5,6,7,8,9,10,11,12)].values\n",
    "y_prime=combine_data.loc['tr'].ix[:,16].values"
   ]
  },
  {
   "cell_type": "code",
   "execution_count": 67,
   "metadata": {},
   "outputs": [],
   "source": [
    "#setting up the K-Fold Cross validation\n",
    "fold = 15\n",
    "kf = KFold(n_splits=fold)\n",
    "target = (combine_data.loc['tr']['Total Yearly Income [EUR]']) \n",
    "features =  combine_data_copy.loc['tr']"
   ]
  },
  {
   "cell_type": "markdown",
   "metadata": {},
   "source": [
    "# LGBM Model"
   ]
  },
  {
   "cell_type": "code",
   "execution_count": 62,
   "metadata": {},
   "outputs": [],
   "source": [
    "#parameters for LGBM\n",
    "params = {'boosting_type':'gbdt', 'num_leaves' :80, \n",
    "'max_depth': -1, \n",
    "'learning_rate':0.05, \n",
    "'n_estimators':1000, \n",
    "'max_bin':255, \n",
    "'subsample_for_bin':50000, \n",
    "'objective':None, \n",
    "'min_split_gain':0, \n",
    "'min_child_weight':3,\n",
    "'min_child_samples':10, \n",
    "'subsample':1, \n",
    "'subsample_freq':1, \n",
    "'colsample_bytree':1, \n",
    "'reg_alpha':0.1, \n",
    "'reg_lambda':1, 'seed':17,'silent':False, \n",
    "'nthread':-1,\n",
    "\"bagging_seed\": 11,\n",
    "\"metric\": 'mae',\n",
    "\"verbosity\": 1}"
   ]
  },
  {
   "cell_type": "code",
   "execution_count": 71,
   "metadata": {},
   "outputs": [
    {
     "name": "stdout",
     "output_type": "stream",
     "text": [
      "Fold 1\n"
     ]
    },
    {
     "ename": "KeyboardInterrupt",
     "evalue": "",
     "output_type": "error",
     "traceback": [
      "\u001b[1;31m---------------------------------------------------------------------------\u001b[0m",
      "\u001b[1;31mKeyboardInterrupt\u001b[0m                         Traceback (most recent call last)",
      "\u001b[1;32m<ipython-input-71-a7d16f942704>\u001b[0m in \u001b[0;36m<module>\u001b[1;34m\u001b[0m\n\u001b[0;32m      6\u001b[0m     \u001b[0mtest_set\u001b[0m \u001b[1;33m=\u001b[0m \u001b[0mlgbm\u001b[0m\u001b[1;33m.\u001b[0m\u001b[0mDataset\u001b[0m\u001b[1;33m(\u001b[0m\u001b[0mfeatures\u001b[0m\u001b[1;33m.\u001b[0m\u001b[0miloc\u001b[0m\u001b[1;33m[\u001b[0m\u001b[0mtest_index\u001b[0m\u001b[1;33m]\u001b[0m\u001b[1;33m,\u001b[0m \u001b[0mlabel\u001b[0m\u001b[1;33m=\u001b[0m\u001b[0mtarget\u001b[0m\u001b[1;33m.\u001b[0m\u001b[0miloc\u001b[0m\u001b[1;33m[\u001b[0m\u001b[0mtest_index\u001b[0m\u001b[1;33m]\u001b[0m\u001b[1;33m)\u001b[0m\u001b[1;33m\u001b[0m\u001b[0m\n\u001b[0;32m      7\u001b[0m     \u001b[0mmodel\u001b[0m \u001b[1;33m=\u001b[0m \u001b[0mlgbm\u001b[0m\u001b[1;33m.\u001b[0m\u001b[0mtrain\u001b[0m\u001b[1;33m(\u001b[0m\u001b[0mparams\u001b[0m\u001b[1;33m,\u001b[0m \u001b[0mtrain_set\u001b[0m\u001b[1;33m,\u001b[0m \u001b[0mvalid_sets\u001b[0m\u001b[1;33m=\u001b[0m\u001b[0mtest_set\u001b[0m\u001b[1;33m,\u001b[0m \u001b[0mverbose_eval\u001b[0m\u001b[1;33m=\u001b[0m\u001b[1;36m5000\u001b[0m\u001b[1;33m)\u001b[0m\u001b[1;33m\u001b[0m\u001b[0m\n\u001b[1;32m----> 8\u001b[1;33m     \u001b[0mactual_test_lgbm\u001b[0m \u001b[1;33m+=\u001b[0m \u001b[0mmodel\u001b[0m\u001b[1;33m.\u001b[0m\u001b[0mpredict\u001b[0m\u001b[1;33m(\u001b[0m\u001b[0mcombine_data_copy\u001b[0m\u001b[1;33m.\u001b[0m\u001b[0mloc\u001b[0m\u001b[1;33m[\u001b[0m\u001b[1;34m'te'\u001b[0m\u001b[1;33m]\u001b[0m\u001b[1;33m)\u001b[0m\u001b[1;33m/\u001b[0m\u001b[0mn_splits\u001b[0m\u001b[1;33m\u001b[0m\u001b[0m\n\u001b[0m",
      "\u001b[1;32mc:\\users\\vishwesh singh\\appdata\\local\\programs\\python\\python36\\lib\\site-packages\\lightgbm\\basic.py\u001b[0m in \u001b[0;36mpredict\u001b[1;34m(self, data, num_iteration, raw_score, pred_leaf, pred_contrib, data_has_header, is_reshape, **kwargs)\u001b[0m\n\u001b[0;32m   2363\u001b[0m         return predictor.predict(data, num_iteration,\n\u001b[0;32m   2364\u001b[0m                                  \u001b[0mraw_score\u001b[0m\u001b[1;33m,\u001b[0m \u001b[0mpred_leaf\u001b[0m\u001b[1;33m,\u001b[0m \u001b[0mpred_contrib\u001b[0m\u001b[1;33m,\u001b[0m\u001b[1;33m\u001b[0m\u001b[0m\n\u001b[1;32m-> 2365\u001b[1;33m                                  data_has_header, is_reshape)\n\u001b[0m\u001b[0;32m   2366\u001b[0m \u001b[1;33m\u001b[0m\u001b[0m\n\u001b[0;32m   2367\u001b[0m     \u001b[1;32mdef\u001b[0m \u001b[0mrefit\u001b[0m\u001b[1;33m(\u001b[0m\u001b[0mself\u001b[0m\u001b[1;33m,\u001b[0m \u001b[0mdata\u001b[0m\u001b[1;33m,\u001b[0m \u001b[0mlabel\u001b[0m\u001b[1;33m,\u001b[0m \u001b[0mdecay_rate\u001b[0m\u001b[1;33m=\u001b[0m\u001b[1;36m0.9\u001b[0m\u001b[1;33m,\u001b[0m \u001b[1;33m**\u001b[0m\u001b[0mkwargs\u001b[0m\u001b[1;33m)\u001b[0m\u001b[1;33m:\u001b[0m\u001b[1;33m\u001b[0m\u001b[0m\n",
      "\u001b[1;32mc:\\users\\vishwesh singh\\appdata\\local\\programs\\python\\python36\\lib\\site-packages\\lightgbm\\basic.py\u001b[0m in \u001b[0;36mpredict\u001b[1;34m(self, data, num_iteration, raw_score, pred_leaf, pred_contrib, data_has_header, is_reshape)\u001b[0m\n\u001b[0;32m    484\u001b[0m             \u001b[0mpreds\u001b[0m\u001b[1;33m,\u001b[0m \u001b[0mnrow\u001b[0m \u001b[1;33m=\u001b[0m \u001b[0mself\u001b[0m\u001b[1;33m.\u001b[0m\u001b[0m__pred_for_csc\u001b[0m\u001b[1;33m(\u001b[0m\u001b[0mdata\u001b[0m\u001b[1;33m,\u001b[0m \u001b[0mnum_iteration\u001b[0m\u001b[1;33m,\u001b[0m \u001b[0mpredict_type\u001b[0m\u001b[1;33m)\u001b[0m\u001b[1;33m\u001b[0m\u001b[0m\n\u001b[0;32m    485\u001b[0m         \u001b[1;32melif\u001b[0m \u001b[0misinstance\u001b[0m\u001b[1;33m(\u001b[0m\u001b[0mdata\u001b[0m\u001b[1;33m,\u001b[0m \u001b[0mnp\u001b[0m\u001b[1;33m.\u001b[0m\u001b[0mndarray\u001b[0m\u001b[1;33m)\u001b[0m\u001b[1;33m:\u001b[0m\u001b[1;33m\u001b[0m\u001b[0m\n\u001b[1;32m--> 486\u001b[1;33m             \u001b[0mpreds\u001b[0m\u001b[1;33m,\u001b[0m \u001b[0mnrow\u001b[0m \u001b[1;33m=\u001b[0m \u001b[0mself\u001b[0m\u001b[1;33m.\u001b[0m\u001b[0m__pred_for_np2d\u001b[0m\u001b[1;33m(\u001b[0m\u001b[0mdata\u001b[0m\u001b[1;33m,\u001b[0m \u001b[0mnum_iteration\u001b[0m\u001b[1;33m,\u001b[0m \u001b[0mpredict_type\u001b[0m\u001b[1;33m)\u001b[0m\u001b[1;33m\u001b[0m\u001b[0m\n\u001b[0m\u001b[0;32m    487\u001b[0m         \u001b[1;32melif\u001b[0m \u001b[0misinstance\u001b[0m\u001b[1;33m(\u001b[0m\u001b[0mdata\u001b[0m\u001b[1;33m,\u001b[0m \u001b[0mlist\u001b[0m\u001b[1;33m)\u001b[0m\u001b[1;33m:\u001b[0m\u001b[1;33m\u001b[0m\u001b[0m\n\u001b[0;32m    488\u001b[0m             \u001b[1;32mtry\u001b[0m\u001b[1;33m:\u001b[0m\u001b[1;33m\u001b[0m\u001b[0m\n",
      "\u001b[1;32mc:\\users\\vishwesh singh\\appdata\\local\\programs\\python\\python36\\lib\\site-packages\\lightgbm\\basic.py\u001b[0m in \u001b[0;36m__pred_for_np2d\u001b[1;34m(self, mat, num_iteration, predict_type)\u001b[0m\n\u001b[0;32m    572\u001b[0m             \u001b[1;32mreturn\u001b[0m \u001b[0mpreds\u001b[0m\u001b[1;33m,\u001b[0m \u001b[0mnrow\u001b[0m\u001b[1;33m\u001b[0m\u001b[0m\n\u001b[0;32m    573\u001b[0m         \u001b[1;32melse\u001b[0m\u001b[1;33m:\u001b[0m\u001b[1;33m\u001b[0m\u001b[0m\n\u001b[1;32m--> 574\u001b[1;33m             \u001b[1;32mreturn\u001b[0m \u001b[0minner_predict\u001b[0m\u001b[1;33m(\u001b[0m\u001b[0mmat\u001b[0m\u001b[1;33m,\u001b[0m \u001b[0mnum_iteration\u001b[0m\u001b[1;33m,\u001b[0m \u001b[0mpredict_type\u001b[0m\u001b[1;33m)\u001b[0m\u001b[1;33m\u001b[0m\u001b[0m\n\u001b[0m\u001b[0;32m    575\u001b[0m \u001b[1;33m\u001b[0m\u001b[0m\n\u001b[0;32m    576\u001b[0m     \u001b[1;32mdef\u001b[0m \u001b[0m__pred_for_csr\u001b[0m\u001b[1;33m(\u001b[0m\u001b[0mself\u001b[0m\u001b[1;33m,\u001b[0m \u001b[0mcsr\u001b[0m\u001b[1;33m,\u001b[0m \u001b[0mnum_iteration\u001b[0m\u001b[1;33m,\u001b[0m \u001b[0mpredict_type\u001b[0m\u001b[1;33m)\u001b[0m\u001b[1;33m:\u001b[0m\u001b[1;33m\u001b[0m\u001b[0m\n",
      "\u001b[1;32mc:\\users\\vishwesh singh\\appdata\\local\\programs\\python\\python36\\lib\\site-packages\\lightgbm\\basic.py\u001b[0m in \u001b[0;36minner_predict\u001b[1;34m(mat, num_iteration, predict_type, preds)\u001b[0m\n\u001b[0;32m    554\u001b[0m                 \u001b[0mc_str\u001b[0m\u001b[1;33m(\u001b[0m\u001b[0mself\u001b[0m\u001b[1;33m.\u001b[0m\u001b[0mpred_parameter\u001b[0m\u001b[1;33m)\u001b[0m\u001b[1;33m,\u001b[0m\u001b[1;33m\u001b[0m\u001b[0m\n\u001b[0;32m    555\u001b[0m                 \u001b[0mctypes\u001b[0m\u001b[1;33m.\u001b[0m\u001b[0mbyref\u001b[0m\u001b[1;33m(\u001b[0m\u001b[0mout_num_preds\u001b[0m\u001b[1;33m)\u001b[0m\u001b[1;33m,\u001b[0m\u001b[1;33m\u001b[0m\u001b[0m\n\u001b[1;32m--> 556\u001b[1;33m                 preds.ctypes.data_as(ctypes.POINTER(ctypes.c_double))))\n\u001b[0m\u001b[0;32m    557\u001b[0m             \u001b[1;32mif\u001b[0m \u001b[0mn_preds\u001b[0m \u001b[1;33m!=\u001b[0m \u001b[0mout_num_preds\u001b[0m\u001b[1;33m.\u001b[0m\u001b[0mvalue\u001b[0m\u001b[1;33m:\u001b[0m\u001b[1;33m\u001b[0m\u001b[0m\n\u001b[0;32m    558\u001b[0m                 \u001b[1;32mraise\u001b[0m \u001b[0mValueError\u001b[0m\u001b[1;33m(\u001b[0m\u001b[1;34m\"Wrong length for predict results\"\u001b[0m\u001b[1;33m)\u001b[0m\u001b[1;33m\u001b[0m\u001b[0m\n",
      "\u001b[1;31mKeyboardInterrupt\u001b[0m: "
     ]
    }
   ],
   "source": [
    "actual_test_lgbm = np.zeros(len(combine_data_copy.loc['te'])) #creating an empty numpy array for actual prediction scores\n",
    "\n",
    "for fold,(train_index, test_index) in enumerate(kf.split(target)):\n",
    "    print(\"Fold {}\".format(fold+1))\n",
    "    train_set = lgbm.Dataset(features.iloc[train_index], label=target.iloc[train_index])\n",
    "    test_set = lgbm.Dataset(features.iloc[test_index], label=target.iloc[test_index])\n",
    "    model = lgbm.train(params, train_set, valid_sets=test_set, verbose_eval=5000)\n",
    "    actual_test_lgbm += model.predict(combine_data_copy.loc['te'])/n_splits  "
   ]
  },
  {
   "cell_type": "markdown",
   "metadata": {},
   "source": [
    "# XGB model"
   ]
  },
  {
   "cell_type": "code",
   "execution_count": null,
   "metadata": {},
   "outputs": [],
   "source": [
    "#xgboost parameters\n",
    "xgb_params = {\n",
    "                'seed': 0,\n",
    "                'colsample_bytree': 0.8,\n",
    "                'silent': 1,\n",
    "                'subsample': 0.6,\n",
    "                'learning_rate': 0.05,\n",
    "                # 'booster': 'gblinear',  # default is gbtree\n",
    "                'objective': 'reg:linear',\n",
    "                'max_depth': 6,\n",
    "                'num_parallel_tree': 1,\n",
    "                'min_child_weight': 1,\n",
    "                'eval_metric': 'mae',\n",
    "            }"
   ]
  },
  {
   "cell_type": "code",
   "execution_count": null,
   "metadata": {},
   "outputs": [],
   "source": [
    "x_test_final=combine_data_copy.loc['te'].ix[:,(0,1,2,3,4,5,6,7,8,9,10,11,12,13)].values #taking final test data as numpy input for xgboost"
   ]
  },
  {
   "cell_type": "code",
   "execution_count": null,
   "metadata": {},
   "outputs": [],
   "source": [
    "dtrain = xgb.DMatrix(x_prime, label=y_prime) "
   ]
  },
  {
   "cell_type": "code",
   "execution_count": null,
   "metadata": {},
   "outputs": [],
   "source": [
    "seed = 1\n",
    "import xgboost as xgb\n",
    "res = xgb.cv(xgb_params, dtrain, num_boost_round=2000, nfold=10, seed=seed, stratified=False,\n",
    "                         early_stopping_rounds=10, verbose_eval=10, show_stdv=True)   #Doing the CV for xgboost"
   ]
  },
  {
   "cell_type": "code",
   "execution_count": null,
   "metadata": {},
   "outputs": [],
   "source": [
    "best_nrounds = res.shape[0] - 1\n",
    "cv_mean = res.iloc[-1, 0]\n",
    "cv_std = res.iloc[-1, 1]\n",
    "print('CV SCORE: {0}+{1}'.format(cv_mean, cv_std))"
   ]
  },
  {
   "cell_type": "code",
   "execution_count": null,
   "metadata": {},
   "outputs": [],
   "source": [
    "gbdt = xgb.train(xgb_params, dtrain, best_nrounds) #training the model"
   ]
  },
  {
   "cell_type": "code",
   "execution_count": null,
   "metadata": {},
   "outputs": [],
   "source": [
    "dtest = xgb.DMatrix(x_test_final)"
   ]
  },
  {
   "cell_type": "code",
   "execution_count": null,
   "metadata": {},
   "outputs": [],
   "source": [
    "output_xgb_cv = gbdt.predict(dtest) #predicting the final test data output for uploading"
   ]
  },
  {
   "cell_type": "code",
   "execution_count": null,
   "metadata": {},
   "outputs": [],
   "source": [
    "#taking the average of the LGBM and XGB predictions\n",
    "final_prediction = (0.5*(output_xgb_cv))+(0.5*(actual_test_lgbm))"
   ]
  },
  {
   "cell_type": "code",
   "execution_count": null,
   "metadata": {},
   "outputs": [],
   "source": [
    "#Saving Submission file to CSV\n",
    "np.savetxt(\"kaggle_submission.csv\", np.dstack((np.arange(1, final_prediction.size+1),(final_prediction)))[0],\"%d,%f\",header=\"Instance,Total Yearly Income [EUR]\")"
   ]
  }
 ],
 "metadata": {
  "kernelspec": {
   "display_name": "Python 3",
   "language": "python",
   "name": "python3"
  },
  "language_info": {
   "codemirror_mode": {
    "name": "ipython",
    "version": 3
   },
   "file_extension": ".py",
   "mimetype": "text/x-python",
   "name": "python",
   "nbconvert_exporter": "python",
   "pygments_lexer": "ipython3",
   "version": "3.6.6"
  }
 },
 "nbformat": 4,
 "nbformat_minor": 2
}
